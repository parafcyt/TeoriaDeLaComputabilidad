{
 "metadata": {
  "language_info": {
   "codemirror_mode": {
    "name": "ipython",
    "version": 3
   },
   "file_extension": ".py",
   "mimetype": "text/x-python",
   "name": "python",
   "nbconvert_exporter": "python",
   "pygments_lexer": "ipython3",
   "version": "3.7.4-final"
  },
  "orig_nbformat": 2,
  "kernelspec": {
   "name": "python3",
   "display_name": "Python 3"
  }
 },
 "nbformat": 4,
 "nbformat_minor": 2,
 "cells": [
  {
   "cell_type": "code",
   "execution_count": 46,
   "metadata": {},
   "outputs": [],
   "source": [
    "import numpy as np \n",
    "import random\n",
    "import pprint\n",
    "\n",
    "\n",
    "#CARGAR MATRIZ INCIDENCIA RANDOM, CONTROLO EL % DE CONEXIONES(1)\n",
    "def matrizIncidencia(cantNodos:int, probabilidad:float):\n",
    "    matriz=np.zeros((cantNodos,cantNodos),int)\n",
    "    for fila in range(cantNodos):\n",
    "        for columna in range(cantNodos):\n",
    "            if fila==columna:\n",
    "                matriz[fila][columna]=0\n",
    "            elif random.random()<probabilidad:\n",
    "                #CONTROLO CANT DE 1\n",
    "                matriz[fila][columna]=1\n",
    "    return matriz"
   ]
  },
  {
   "cell_type": "code",
   "execution_count": 47,
   "metadata": {},
   "outputs": [],
   "source": [
    "#DE MATRIZ DE INCIDENCIA HAGO LISTA DE CONEXIONES\n",
    "def listaConexiones(matriz:np.ndarray):\n",
    "    lista=[]\n",
    "    cantNodos=matriz.shape[0]\n",
    "    for fila in range(cantNodos):\n",
    "        columna=-1\n",
    "        conexion=False\n",
    "        for elemento in matriz[fila]:\n",
    "            #ME EMPIEZO A MOVER X LAS COLUMNAS\n",
    "            columna+=1\n",
    "            if elemento==1:\n",
    "                lista.append((fila,columna))\n",
    "                conexion=True\n",
    "        if conexion==False:\n",
    "            #NODO SIN ARISTAS\n",
    "            lista.append((fila,None))\n",
    "    return lista"
   ]
  },
  {
   "cell_type": "code",
   "execution_count": 48,
   "metadata": {},
   "outputs": [],
   "source": [
    "class TDAGrafo:\n",
    "    def __init__(self,listaConexiones):\n",
    "        self.grafo=dict()\n",
    "        self.contador_aristas = 0\n",
    "        self.listaADiccionario(listaConexiones)\n",
    "        self.cardinalMayorMenor()\n",
    "\n",
    "    #DE LISTA DE CONEXIONES A DICCIONARIO\n",
    "    def listaADiccionario(self,listaConexiones):\n",
    "    \n",
    "        for element1,element2 in listaConexiones:\n",
    "            if element2 !=None:\n",
    "\n",
    "                self.grafo.setdefault(element1,[]) #ESTRUCTURA\n",
    "                if element2 not in self.grafo[element1]: #NO DUPLICADOS\n",
    "                    self.grafo[element1].append(element2)\n",
    "\n",
    "                self.grafo.setdefault(element2,[]) #ESTRUCTURA\n",
    "                if element1 not in self.grafo[element2]: #NO DUPLICADOS\n",
    "                    self.grafo[element2].append(element1)\n",
    "                \n",
    "                    self.contador_aristas += 1\n",
    "\n",
    "            else:\n",
    "                self.grafo.setdefault(element1,[])\n",
    "\n",
    "    \n",
    "    #ARREGLO DE CARDINALIDADES DE MAYOR A MENOR\n",
    "    def cardinalMayorMenor(self):\n",
    "        cardinalidades=[]\n",
    "        for nodo,conectados in self.grafo.items():\n",
    "            cardinalidades.append((nodo,len(conectados)))\n",
    "        cardinalidades.sort(key=lambda x:x[1], reverse=True)\n",
    "        return cardinalidades"
   ]
  },
  {
   "cell_type": "code",
   "execution_count": 49,
   "metadata": {},
   "outputs": [],
   "source": [
    "def mvc(grafo):\n",
    "    #TODOS LOS NODOS QUE CUMPLEN CON RECORRER TODOS LAS ARISTAS\n",
    "    vertexCover=[]\n",
    "    aristasVisitadas=[]\n",
    "    while len(aristasVisitadas)<grafo.contador_aristas:\n",
    "        for nodo in grafo.cardinalMayorMenor():\n",
    "            for elemento in grafo.grafo[nodo[0]]:\n",
    "                if {nodo[0],elemento} not in aristasVisitadas:\n",
    "                        aristasVisitadas.append({nodo[0],elemento})\n",
    "                        if nodo[0] not in vertexCover:\n",
    "                            vertexCover.append(nodo[0])\n",
    "    return vertexCover         "
   ]
  },
  {
   "cell_type": "code",
   "execution_count": 50,
   "metadata": {},
   "outputs": [
    {
     "output_type": "stream",
     "name": "stdout",
     "text": [
      "[[0 1 0 0 0 0 1 1 0 1 0 0]\n [1 0 1 0 0 0 0 0 0 0 1 0]\n [0 1 0 1 0 0 0 0 0 0 1 0]\n [0 0 1 0 1 0 0 0 0 0 1 1]\n [0 0 0 1 0 1 0 1 0 0 0 1]\n [0 0 0 0 1 0 1 0 0 0 0 0]\n [1 0 0 0 0 1 0 1 0 0 0 0]\n [1 0 0 0 1 1 1 0 1 0 0 0]\n [0 0 0 0 0 0 0 1 0 1 0 1]\n [1 0 0 0 0 0 0 0 1 0 1 0]\n [0 1 1 1 0 0 0 0 0 1 0 0]\n [0 0 0 1 1 0 0 0 1 0 0 0]]\n\n[(0, 1), (0, 6), (0, 7), (0, 9), (1, 0), (1, 2), (1, 10), (2, 1), (2, 3), (2, 10), (3, 2), (3, 4), (3, 10), (3, 11), (4, 3), (4, 5), (4, 7), (4, 11), (5, 4), (5, 6), (6, 0), (6, 5), (6, 7), (7, 0), (7, 4), (7, 5), (7, 6), (7, 8), (8, 7), (8, 9), (8, 11), (9, 0), (9, 8), (9, 10), (10, 1), (10, 2), (10, 3), (10, 9), (11, 3), (11, 4), (11, 8)]\n\n{0: [1, 6, 7, 9],\n 1: [0, 2, 10],\n 2: [1, 3, 10],\n 3: [2, 4, 10, 11],\n 4: [3, 5, 7, 11],\n 5: [4, 6, 7],\n 6: [0, 5, 7],\n 7: [0, 4, 6, 5, 8],\n 8: [7, 9, 11],\n 9: [0, 8, 10],\n 10: [1, 2, 3, 9],\n 11: [3, 4, 8]}\n\n[7, 0, 10, 3, 4, 1, 6, 9, 11]\n"
     ]
    }
   ],
   "source": [
    "cantNodos=5\n",
    "probabilidad=0.3\n",
    "m=matrizIncidencia(cantNodos,probabilidad)\n",
    "\n",
    "m = np.array([\n",
    "    [0,1,0,0,0,0,1,1,0,1,0,0],\n",
    "    [1,0,1,0,0,0,0,0,0,0,1,0],\n",
    "    [0,1,0,1,0,0,0,0,0,0,1,0],\n",
    "    [0,0,1,0,1,0,0,0,0,0,1,1],\n",
    "    [0,0,0,1,0,1,0,1,0,0,0,1],\n",
    "    [0,0,0,0,1,0,1,0,0,0,0,0],\n",
    "    [1,0,0,0,0,1,0,1,0,0,0,0],\n",
    "    [1,0,0,0,1,1,1,0,1,0,0,0],\n",
    "    [0,0,0,0,0,0,0,1,0,1,0,1],\n",
    "    [1,0,0,0,0,0,0,0,1,0,1,0],\n",
    "    [0,1,1,1,0,0,0,0,0,1,0,0],\n",
    "    [0,0,0,1,1,0,0,0,1,0,0,0]])\n",
    "\n",
    "\n",
    "print(m)\n",
    "print()\n",
    "\n",
    "l=listaConexiones(m)\n",
    "print(l)\n",
    "print()\n",
    "\n",
    "grafo=TDAGrafo(l)\n",
    "\n",
    "\n",
    "pretty_print = pprint.PrettyPrinter()\n",
    "pretty_print.pprint(grafo.grafo)\n",
    "resultado=mvc(grafo)\n",
    "print()\n",
    "print(resultado)\n"
   ]
  }
 ]
}