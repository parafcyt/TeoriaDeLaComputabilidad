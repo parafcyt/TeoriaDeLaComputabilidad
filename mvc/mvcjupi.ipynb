{
 "metadata": {
  "language_info": {
   "codemirror_mode": {
    "name": "ipython",
    "version": 3
   },
   "file_extension": ".py",
   "mimetype": "text/x-python",
   "name": "python",
   "nbconvert_exporter": "python",
   "pygments_lexer": "ipython3",
   "version": "3.7.4-final"
  },
  "orig_nbformat": 2,
  "kernelspec": {
   "name": "python3",
   "display_name": "Python 3.7.4 64-bit (conda)",
   "metadata": {
    "interpreter": {
     "hash": "5404e457d42a319c23ea5cdd056164dc5d7579ce73626193055083227453666b"
    }
   }
  }
 },
 "nbformat": 4,
 "nbformat_minor": 2,
 "cells": [
  {
   "cell_type": "code",
   "execution_count": 1,
   "metadata": {},
   "outputs": [],
   "source": [
    "import numpy as np \n",
    "import random\n",
    "import pprint\n",
    "\n",
    "\n",
    "#CARGAR MATRIZ INCIDENCIA RANDOM, CONTROLO EL % DE CONEXIONES(1)\n",
    "def matrizIncidencia(cantNodos:int, probabilidad:float):\n",
    "    matriz=np.zeros((cantNodos,cantNodos),int)\n",
    "    for fila in range(cantNodos):\n",
    "        for columna in range(cantNodos):\n",
    "            if fila==columna:\n",
    "                matriz[fila][columna]=0\n",
    "            elif random.random()<probabilidad:\n",
    "                #CONTROLO CANT DE 1\n",
    "                matriz[fila][columna]=1\n",
    "    return matriz"
   ]
  },
  {
   "cell_type": "code",
   "execution_count": 2,
   "metadata": {},
   "outputs": [],
   "source": [
    "#DE MATRIZ DE INCIDENCIA HAGO LISTA DE CONEXIONES\n",
    "def listaConexiones(matriz:np.ndarray):\n",
    "    lista=[]\n",
    "    cantNodos=matriz.shape[0]\n",
    "    for fila in range(cantNodos):\n",
    "        columna=-1\n",
    "        conexion=False\n",
    "        for elemento in matriz[fila]:\n",
    "            #ME EMPIEZO A MOVER X LAS COLUMNAS\n",
    "            columna+=1\n",
    "            if elemento==1:\n",
    "                lista.append((fila,columna))\n",
    "                conexion=True\n",
    "        if conexion==False:\n",
    "            #NODO SIN ARISTAS\n",
    "            lista.append((fila,None))\n",
    "    return lista"
   ]
  },
  {
   "cell_type": "code",
   "execution_count": 4,
   "metadata": {},
   "outputs": [],
   "source": [
    "class TDAGrafo:\n",
    "    def __init__(self,listaConexiones):\n",
    "        self.grafo=dict()\n",
    "        self.contador_aristas = 0\n",
    "        self.listaADiccionario(listaConexiones)\n",
    "\n",
    "    #DE LISTA DE CONEXIONES A DICCIONARIO\n",
    "    def listaADiccionario(self,listaConexiones):\n",
    "    \n",
    "        for element1,element2 in listaConexiones:\n",
    "            if element2 !=None:\n",
    "\n",
    "                self.grafo.setdefault(element1,[]) #ESTRUCTURA\n",
    "                if element2 not in self.grafo[element1]: #NO DUPLICADOS\n",
    "                    self.grafo[element1].append(element2)\n",
    "\n",
    "                self.grafo.setdefault(element2,[]) #ESTRUCTURA\n",
    "                if element1 not in self.grafo[element2]: #NO DUPLICADOS\n",
    "                    self.grafo[element2].append(element1)\n",
    "                \n",
    "                    self.contador_aristas += 1\n",
    "\n",
    "            else:\n",
    "                self.grafo.setdefault(element1,[])"
   ]
  },
  {
   "cell_type": "code",
   "execution_count": 3,
   "metadata": {},
   "outputs": [],
   "source": [
    "#GENERAR TODOS LOS SUBCONJUNTOS POSIBLES: EJ. [0,1,0,1] DESDE EL VACÍO HASTA EL [1,1,1,1]\n",
    "def incremen(fila):\n",
    "    cadena=''\n",
    "    for num in fila:\n",
    "        cadena+=str(num)\n",
    "        \n",
    "    totalunos=cadena.count('1')\n",
    "    \n",
    "    if  totalunos== len(cadena):\n",
    "        return None\n",
    "\n",
    "    j = len(fila)-1\n",
    "    while fila[j]==1:\n",
    "        fila[j] = 0\n",
    "        j -= 1\n",
    "    fila[j]=1\n",
    "    \n",
    "    return fila"
   ]
  },
  {
   "cell_type": "code",
   "execution_count": 5,
   "metadata": {},
   "outputs": [],
   "source": [
    "def mvc(grafo,cantNodos):\n",
    "    #TODOS LOS NODOS QUE CUMPLEN CON RECORRER TODOS LAS ARISTAS\n",
    "    vertexcover=[]\n",
    "    analizar=[0]*cantNodos\n",
    "    while analizar:\n",
    "        nodosAux=[]\n",
    "        aristasVisitadas=[]\n",
    "        #RECORRO TODA LA TUPLA\n",
    "        for i in range(cantNodos):\n",
    "            if(analizar[i]==1):\n",
    "                for nodo in grafo.grafo[i]:\n",
    "                    if {i,nodo} not in aristasVisitadas:\n",
    "                        aristasVisitadas.append({i,nodo})\n",
    "                        if i not in nodosAux:\n",
    "                            nodosAux.append(i)\n",
    "                       \n",
    "        if (grafo.contador_aristas==len(aristasVisitadas)):\n",
    "            if nodosAux not in vertexcover:\n",
    "                vertexcover.append(nodosAux)    \n",
    "        analizar=incremen(analizar)\n",
    "    return vertexcover             "
   ]
  },
  {
   "cell_type": "code",
   "execution_count": 6,
   "metadata": {},
   "outputs": [],
   "source": [
    "def minimo(minNodos):\n",
    "    mcv=[]\n",
    "    for conjunto in minNodos:\n",
    "        if len(mcv)==0:\n",
    "            mcv=conjunto\n",
    "        elif len(conjunto)<len(mcv):\n",
    "            mcv=conjunto\n",
    "    return mcv"
   ]
  },
  {
   "cell_type": "code",
   "execution_count": 9,
   "metadata": {},
   "outputs": [
    {
     "output_type": "stream",
     "name": "stdout",
     "text": [
      "[[0 0 1 0 1]\n [1 0 0 0 0]\n [1 0 0 0 0]\n [1 0 0 0 0]\n [1 0 1 1 0]]\n\n[(0, 2), (0, 4), (1, 0), (2, 0), (3, 0), (4, 0), (4, 2), (4, 3)]\n\n{0: [2, 4, 1, 3], 1: [0], 2: [0, 4], 3: [0, 4], 4: [0, 2, 3]}\n\n[[1, 2, 3, 4], [0, 4], [0, 3, 4], [0, 2, 4], [0, 2, 3]]\n\n[0, 4]\n"
     ]
    }
   ],
   "source": [
    "cantNodos=5\n",
    "probabilidad=0.3\n",
    "m=matrizIncidencia(cantNodos,probabilidad)\n",
    "print(m)\n",
    "print()\n",
    "\n",
    "l=listaConexiones(m)\n",
    "print(l)\n",
    "print()\n",
    "\n",
    "grafo=TDAGrafo(l)\n",
    "\n",
    "\n",
    "pretty_print = pprint.PrettyPrinter()\n",
    "pretty_print.pprint(grafo.grafo)\n",
    "resultado=mvc(grafo,cantNodos)\n",
    "print()\n",
    "print(resultado)\n",
    "print()\n",
    "print(minimo(resultado))"
   ]
  },
  {
   "cell_type": "code",
   "execution_count": 11,
   "metadata": {},
   "outputs": [
    {
     "output_type": "stream",
     "name": "stdout",
     "text": [
      "[[0 1 0 0 0]\n [1 0 1 1 0]\n [0 1 0 0 0]\n [0 1 0 0 1]\n [0 0 0 1 0]]\n\n[(0, 1), (1, 0), (1, 2), (1, 3), (2, 1), (3, 1), (3, 4), (4, 3)]\n\n{0: [1], 1: [0, 2, 3], 2: [1], 3: [1, 4], 4: [3]}\n\n[[1, 4], [1, 3], [0, 2, 3], [0, 1, 4], [0, 1, 3]]\n\n[1, 4]\n"
     ]
    }
   ],
   "source": [
    "cantNodos=5\n",
    "probabilidad=0.3\n",
    "\n",
    "#m=matrizIncidencia(cantNodos,probabilidad)\n",
    "m = np.array(\n",
    "    [[0,1,0,0,0],\n",
    "    [1,0,1,1,0],\n",
    "    [0,1,0,0,0],\n",
    "    [0,1,0,0,1],\n",
    "    [0,0,0,1,0]]\n",
    ")\n",
    "print(m)\n",
    "print()\n",
    "\n",
    "l=listaConexiones(m)\n",
    "print(l)\n",
    "print()\n",
    "\n",
    "grafo=TDAGrafo(l)\n",
    "\n",
    "\n",
    "pretty_print = pprint.PrettyPrinter()\n",
    "pretty_print.pprint(grafo.grafo)\n",
    "resultado=mvc(grafo,cantNodos)\n",
    "print()\n",
    "print(resultado)\n",
    "print()\n",
    "print(minimo(resultado))"
   ]
  }
 ]
}