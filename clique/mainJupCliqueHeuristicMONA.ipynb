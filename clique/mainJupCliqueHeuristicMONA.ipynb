{
 "metadata": {
  "language_info": {
   "codemirror_mode": {
    "name": "ipython",
    "version": 3
   },
   "file_extension": ".py",
   "mimetype": "text/x-python",
   "name": "python",
   "nbconvert_exporter": "python",
   "pygments_lexer": "ipython3",
   "version": "3.7.4-final"
  },
  "orig_nbformat": 2,
  "kernelspec": {
   "name": "python3",
   "display_name": "Python 3"
  }
 },
 "nbformat": 4,
 "nbformat_minor": 2,
 "cells": [
  {
   "cell_type": "code",
   "execution_count": 106,
   "metadata": {},
   "outputs": [],
   "source": [
    "import numpy as np \n",
    "import random\n",
    "import pprint\n",
    "import operator\n",
    "import copy\n",
    "import time\n",
    "from itertools import combinations\n",
    "from mainCliqueOptimo import cliqueMaximo"
   ]
  },
  {
   "cell_type": "code",
   "execution_count": 107,
   "metadata": {},
   "outputs": [],
   "source": [
    "#CARGAR MATRIZ INCIDENCIA RANDOM, CONTROLO EL % DE CONEXIONES(1)\n",
    "def matrizIncidencia(cantNodos:int, probabilidad:float):\n",
    "    matriz=np.zeros((cantNodos,cantNodos),int)\n",
    "    for fila in range(cantNodos):\n",
    "        for columna in range(cantNodos):\n",
    "            if fila==columna:\n",
    "                matriz[fila][columna]=0\n",
    "            elif random.random()<probabilidad:\n",
    "                #CONTROLO CANT DE 1\n",
    "                matriz[fila][columna]=1\n",
    "    return matriz"
   ]
  },
  {
   "cell_type": "code",
   "execution_count": 108,
   "metadata": {},
   "outputs": [],
   "source": [
    "#DE MATRIZ DE INCIDENCIA HAGO LISTA DE CONEXIONES\n",
    "def listaConexiones(matriz:np.ndarray):\n",
    "    lista=[]\n",
    "    cantNodos=matriz.shape[0]\n",
    "    for fila in range(cantNodos):\n",
    "        columna=-1\n",
    "        conexion=False\n",
    "        for elemento in matriz[fila]:\n",
    "            #ME EMPIEZO A MOVER X LAS COLUMNAS\n",
    "            columna+=1\n",
    "            if elemento==1:\n",
    "                lista.append((fila,columna))\n",
    "                conexion=True\n",
    "        if conexion==False:\n",
    "            #NODO SIN ARISTAS\n",
    "            lista.append((fila,None))\n",
    "    return lista"
   ]
  },
  {
   "cell_type": "code",
   "execution_count": 109,
   "metadata": {},
   "outputs": [],
   "source": [
    "class TDAGrafo:\n",
    "    def __init__(self,listaConexiones):\n",
    "        self.grafo=dict()\n",
    "        self.listaADiccionario(listaConexiones)\n",
    "        self.cardinalesDicc=dict()\n",
    "        #self.cardinalidades()\n",
    "\n",
    "\n",
    "    #DE LISTA DE CONEXIONES A DICCIONARIO\n",
    "    def listaADiccionario(self,listaConexiones):\n",
    "    \n",
    "        for element1,element2 in listaConexiones:\n",
    "            if element2 !=None:\n",
    "\n",
    "                self.grafo.setdefault(element1,[]) #ESTRUCTURA\n",
    "                if element2 not in self.grafo[element1]: #NO DUPLICADOS\n",
    "                    self.grafo[element1].append(element2)\n",
    "\n",
    "                self.grafo.setdefault(element2,[]) #ESTRUCTURA\n",
    "                if element1 not in self.grafo[element2]: #NO DUPLICADOS\n",
    "                    self.grafo[element2].append(element1)\n",
    "\n",
    "            else:\n",
    "                self.grafo.setdefault(element1,[])\n",
    "\n",
    "\n",
    "    #SEGÚN UN CLIQUE, DECIR SI UN NODO ES VECINO A TODOS SUS ELEMENTOS\n",
    "    def esVecino(self,clique:list,nodo:int):\n",
    "        for elemento in clique:\n",
    "            #ME FIJO EN EL DICCIONARIO DEL NODO SI LOS ELEMENTOS DEL CLIQUE ESTÁN EN EL\n",
    "            #CON QUE 1 ELEMENTO NO ESTÉ, YA EL NODO NO ES VECINO DEL CLIQUE\n",
    "            if elemento not in self.grafo[nodo]:\n",
    "                return False\n",
    "        return True\n",
    "\n",
    "\n",
    "    #HACE TODAS LAS COMBINACIONES DE LOS VERTICES DE UNA CARDINALIDAD Y DICE SI SON CLIQUE(Y LO DEVUELVE)\n",
    "    def combinacionEsClique(self,vertices, cardiClique):\n",
    "        combinaciones=list(combinations(vertices, cardiClique))\n",
    "        print('COMBINACIONES:{}, {}'.format(combinaciones,cardiClique)) \n",
    "        for combinacion in combinaciones:\n",
    "            if self.esClique(combinacion):\n",
    "                return combinacion\n",
    "        return False\n",
    "        \n",
    "\n",
    "    #DADA UNA COMBINACION SE FIJA SI ENTRE ELLOS SON VECINOS\n",
    "    def esClique(self,combinacion):\n",
    "        for nodo in combinacion:\n",
    "            for elemento in combinacion:\n",
    "                if nodo != elemento:\n",
    "                    if nodo not in self.grafo[elemento]:\n",
    "                        return False\n",
    "        return True\n",
    "\n",
    "\n",
    "\n"
   ]
  },
  {
   "cell_type": "code",
   "execution_count": 110,
   "metadata": {},
   "outputs": [],
   "source": [
    "def maxCliqueMona(grafo):\n",
    "    inicio=time.clock()\n",
    "    pila=pilaCardinales(copiarGrafo(grafo.grafo))\n",
    "    \n",
    "    clique=[]\n",
    "    \n",
    "    while not pila.estaVacia():\n",
    "        nodoTratar=pila.desapilar()\n",
    "        if len(clique)==0:\n",
    "            clique.append(nodoTratar)\n",
    "        elif grafo.esVecino(clique,nodoTratar):\n",
    "            clique.append(nodoTratar)\n",
    "        else:\n",
    "            final=time.clock()-inicio\n",
    "            return clique,final\n",
    "    \n",
    "    final=time.clock()-inicio\n",
    "    return clique,final\n",
    "\n",
    "        \n",
    "\n"
   ]
  },
  {
   "cell_type": "code",
   "execution_count": 111,
   "metadata": {},
   "outputs": [],
   "source": [
    "def nodoYcardinalDic(grafo):\n",
    "    #DICCIONARIO DE CARDINALES ORIGINAL\n",
    "    cardinalidades=dict()\n",
    "    for nodo,conectados in grafo.items():\n",
    "        cardinalidades[nodo]=len(conectados) #NO TIENE ORDEN\n",
    "        #print(cardinalidades[nodo])\n",
    "    \n",
    "    return cardinalidades"
   ]
  },
  {
   "cell_type": "code",
   "execution_count": 112,
   "metadata": {},
   "outputs": [],
   "source": [
    "#DADO UN NODO LO ELIMINA DEL DICCIONARIO DE CARDINALIDADES X NODO\n",
    "def eliminarNodo(grafoAux,nodo):\n",
    "    conexionesNodo=grafoAux[nodo]\n",
    "    for conexion in conexionesNodo:\n",
    "        grafoAux[conexion].remove(nodo)\n",
    "    grafoAux.pop(nodo)\n",
    "    return grafoAux\n",
    "    \n"
   ]
  },
  {
   "cell_type": "code",
   "execution_count": 113,
   "metadata": {},
   "outputs": [],
   "source": [
    "#DEVUELVE PILA CON CARDINALIDADES\n",
    "def pilaCardinales(grafoAux):\n",
    "    pilaFinal=TDAPila()\n",
    "    listaOrdenada=sorted(nodoYcardinalDic(grafoAux).items(), key=lambda x: x[1])\n",
    "\n",
    "    while len(listaOrdenada)>0:\n",
    "        pilaFinal.apilar(listaOrdenada[0][0])\n",
    "        grafoAux=eliminarNodo(grafoAux,listaOrdenada[0][0])\n",
    "        \n",
    "        listaOrdenada=sorted(nodoYcardinalDic(grafoAux).items(), key=lambda x: x[1])\n",
    "    return pilaFinal"
   ]
  },
  {
   "cell_type": "code",
   "execution_count": 114,
   "metadata": {},
   "outputs": [],
   "source": [
    "def copiarGrafo(grafo):\n",
    "    grafoAux=copy.deepcopy(grafo)\n",
    "    return grafoAux"
   ]
  },
  {
   "cell_type": "code",
   "execution_count": 115,
   "metadata": {},
   "outputs": [],
   "source": [
    "class TDAPila:\n",
    "     def __init__(self):\n",
    "         self.items = []\n",
    "\n",
    "     def estaVacia(self):\n",
    "         return self.items == []\n",
    "\n",
    "     def apilar(self, item):\n",
    "         self.items.append(item)\n",
    "\n",
    "     def desapilar(self):\n",
    "        \"\"\" Devuelve el elemento tope y lo elimina de la pila.\n",
    "        Si la pila está vacía levanta una excepción. \"\"\"\n",
    "        try:\n",
    "            return self.items.pop()\n",
    "        except IndexError:\n",
    "            raise ValueError(\"La pila está vacía\")\n",
    "\n",
    "     def inspeccionar(self):\n",
    "         return self.items[len(self.items)-1]\n",
    "\n",
    "     def tamano(self):\n",
    "         return len(self.items)"
   ]
  },
  {
   "cell_type": "code",
   "execution_count": 116,
   "metadata": {},
   "outputs": [],
   "source": [
    "#DADO UN VALOR, DEVUELVE UN ARRAY CON TODOS LOS NODOS DE ESA CARDINALIDAD PARA ARRIBA INCLUSIVE\n",
    "def nodosSuperiores(grafo, valor):\n",
    "    lista=list(grafo.cardinalesDicc.keys())\n",
    "    lista.sort()\n",
    "    print('DICCIONARIO CARDINALES LISTA:{} '.format(lista))\n",
    "    arrayNodosSup=[]\n",
    "    arrayCardinalesSup=[]\n",
    "    for cardi in lista:\n",
    "        if cardi>=valor:\n",
    "            arrayCardinalesSup.append(cardi)\n",
    "    \n",
    "    print('ARRAY CARDINALES SUP:{} '.format(arrayCardinalesSup))\n",
    "    \n",
    "    for card in arrayCardinalesSup:\n",
    "         for nodo in grafo.cardinalesDicc[card]:\n",
    "                arrayNodosSup.append(nodo)\n",
    "    print('Nodos Superiores para cardinalidad {}: {}'.format(valor,arrayNodosSup))\n",
    "    return arrayNodosSup"
   ]
  },
  {
   "cell_type": "code",
   "execution_count": 118,
   "metadata": {
    "tags": []
   },
   "outputs": [
    {
     "output_type": "stream",
     "name": "stdout",
     "text": [
      "[[0 1 0 1 0 0 1 0 0]\n [0 0 1 0 0 1 1 0 0]\n [0 1 0 0 1 1 0 0 0]\n [0 0 1 0 1 0 1 0 1]\n [0 0 0 0 0 0 0 0 0]\n [0 0 0 0 0 0 0 0 0]\n [0 0 0 0 0 0 0 0 1]\n [1 0 0 1 0 0 0 0 0]\n [0 1 0 0 0 0 0 0 0]]\n\n\n{0: [1, 3, 6, 7],\n 1: [0, 2, 5, 6, 8],\n 2: [1, 4, 5, 3],\n 3: [0, 2, 4, 6, 8, 7],\n 4: [2, 3],\n 5: [1, 2],\n 6: [0, 1, 3, 8],\n 7: [0, 3],\n 8: [3, 6, 1]}\n\nheuris = {8, 3, 6}, tiempo=8.280000000127075e-05 milisegundos\noptimo = {8, 3, 6}, tiempo=0.002157199999999193 milisegundos\n"
     ]
    }
   ],
   "source": [
    "cantNodos=9\n",
    "probabilidad=0.3\n",
    "\n",
    "\n",
    "\n",
    "m1 = np.array([\n",
    "    [0,1,1,1,0,1,1,0],\n",
    "    [1,0,1,1,1,1,0,0],\n",
    "    [1,1,0,1,0,0,1,1],\n",
    "    [1,1,1,0,1,0,0,1],\n",
    "    [0,1,0,1,0,0,0,0],\n",
    "    [1,1,0,0,0,0,0,0],\n",
    "    [1,0,1,0,0,0,0,0],\n",
    "    [0,0,1,1,0,0,0,0]])\n",
    "\n",
    "m=matrizIncidencia(cantNodos,probabilidad)\n",
    "\n",
    "m2= np.array([\n",
    "    [0,1,1,1,1],\n",
    "    [1,0,1,1,1],\n",
    "    [1,1,0,1,1],\n",
    "    [1,1,1,0,1],\n",
    "    [1,1,1,1,0]\n",
    "])\n",
    "\n",
    "m3= np.array([\n",
    "    [0,1,0,0,0],\n",
    "    [1,0,0,0,0],\n",
    "    [0,0,0,0,0],\n",
    "    [0,0,0,0,0],\n",
    "    [0,0,0,0,0]\n",
    "])\n",
    "\n",
    "print(m)\n",
    "\n",
    "\n",
    "l=listaConexiones(m)\n",
    "#print(l)\n",
    "print()\n",
    "\n",
    "grafo=TDAGrafo(l)\n",
    "print()\n",
    "pretty_print = pprint.PrettyPrinter()\n",
    "pretty_print.pprint(grafo.grafo)\n",
    "\n",
    "\n",
    "\n",
    "\n",
    "resultado,tiempo=maxCliqueMona(grafo)\n",
    "resultado1,tiempo1=cliqueMaximo(grafo, cantNodos)\n",
    "print()\n",
    "print('heuris = {}, tiempo={} milisegundos'.format({x for x in resultado},tiempo))\n",
    "print('optimo = {}, tiempo={} milisegundos'.format({x for x in resultado1},tiempo1))\n"
   ]
  },
  {
   "cell_type": "code",
   "execution_count": 119,
   "metadata": {},
   "outputs": [
    {
     "output_type": "stream",
     "name": "stdout",
     "text": [
      "89\n"
     ]
    },
    {
     "output_type": "execute_result",
     "data": {
      "text/plain": [
       "[1, 3, 4, 22, 89]"
      ]
     },
     "metadata": {},
     "execution_count": 119
    }
   ],
   "source": [
    "calvesordenadas = sorted({1:1,89:7,22:9,4:34,3:90})\n",
    "print(calvesordenadas[-1])\n",
    "calvesordenadas"
   ]
  },
  {
   "cell_type": "code",
   "execution_count": 120,
   "metadata": {},
   "outputs": [
    {
     "output_type": "stream",
     "name": "stdout",
     "text": [
      "[1, 2, 3, 4, 5]\n"
     ]
    }
   ],
   "source": [
    "valor=2\n",
    "listita=[0,1,2,3,4,5]\n",
    "print(listita[valor-1:])"
   ]
  },
  {
   "cell_type": "code",
   "execution_count": null,
   "metadata": {},
   "outputs": [],
   "source": []
  }
 ]
}