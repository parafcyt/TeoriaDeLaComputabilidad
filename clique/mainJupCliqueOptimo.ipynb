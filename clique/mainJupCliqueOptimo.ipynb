{
 "metadata": {
  "language_info": {
   "codemirror_mode": {
    "name": "ipython",
    "version": 3
   },
   "file_extension": ".py",
   "mimetype": "text/x-python",
   "name": "python",
   "nbconvert_exporter": "python",
   "pygments_lexer": "ipython3",
   "version": "3.7.4-final"
  },
  "orig_nbformat": 2,
  "kernelspec": {
   "name": "python3",
   "display_name": "Python 3.7.4 64-bit (conda)",
   "metadata": {
    "interpreter": {
     "hash": "5404e457d42a319c23ea5cdd056164dc5d7579ce73626193055083227453666b"
    }
   }
  }
 },
 "nbformat": 4,
 "nbformat_minor": 2,
 "cells": [
  {
   "cell_type": "code",
   "execution_count": 27,
   "metadata": {},
   "outputs": [],
   "source": [
    "import numpy as np \n",
    "import random\n",
    "import pprint"
   ]
  },
  {
   "cell_type": "code",
   "execution_count": 28,
   "metadata": {},
   "outputs": [],
   "source": [
    "#CARGAR MATRIZ INCIDENCIA RANDOM, CONTROLO EL % DE CONEXIONES(1)\n",
    "def matrizIncidencia(cantNodos:int, probabilidad:float):\n",
    "    matriz=np.zeros((cantNodos,cantNodos),int)\n",
    "    for fila in range(cantNodos):\n",
    "        for columna in range(cantNodos):\n",
    "            if fila==columna:\n",
    "                matriz[fila][columna]=0\n",
    "            elif random.random()<probabilidad:\n",
    "                #CONTROLO CANT DE 1\n",
    "                matriz[fila][columna]=1\n",
    "    return matriz"
   ]
  },
  {
   "cell_type": "code",
   "execution_count": 29,
   "metadata": {},
   "outputs": [],
   "source": [
    "#DE MATRIZ DE INCIDENCIA HAGO LISTA DE CONEXIONES\n",
    "def listaConexiones(matriz:np.ndarray):\n",
    "    lista=[]\n",
    "    cantNodos=matriz.shape[0]\n",
    "    for fila in range(cantNodos):\n",
    "        columna=-1\n",
    "        conexion=False\n",
    "        for elemento in matriz[fila]:\n",
    "            #ME EMPIEZO A MOVER X LAS COLUMNAS\n",
    "            columna+=1\n",
    "            if elemento==1:\n",
    "                lista.append((fila,columna))\n",
    "                conexion=True\n",
    "        if conexion==False:\n",
    "            #NODO SIN ARISTAS\n",
    "            lista.append((fila,None))\n",
    "    return lista\n",
    "\n"
   ]
  },
  {
   "cell_type": "code",
   "execution_count": 30,
   "metadata": {},
   "outputs": [],
   "source": [
    "class TDAGrafo:\n",
    "    def __init__(self,listaConexiones):\n",
    "        self.grafo=dict()\n",
    "        self.listaADiccionario(listaConexiones)\n",
    "\n",
    "    #DE LISTA DE CONEXIONES A DICCIONARIO\n",
    "    def listaADiccionario(self,listaConexiones):\n",
    "    \n",
    "        for element1,element2 in listaConexiones:\n",
    "            if element2 !=None:\n",
    "\n",
    "                self.grafo.setdefault(element1,[]) #ESTRUCTURA\n",
    "                if element2 not in self.grafo[element1]: #NO DUPLICADOS\n",
    "                    self.grafo[element1].append(element2)\n",
    "\n",
    "                self.grafo.setdefault(element2,[]) #ESTRUCTURA\n",
    "                if element1 not in self.grafo[element2]: #NO DUPLICADOS\n",
    "                    self.grafo[element2].append(element1)\n",
    "\n",
    "            else:\n",
    "                self.grafo.setdefault(element1,[])\n",
    "\n",
    "    #SEGÚN UN CLIQUE, DECIR SI UN NODO ES VECINO A TODOS SUS ELEMENTOS\n",
    "    def esVecino(self,clique:list,nodo:int):\n",
    "        for elemento in clique:\n",
    "            #ME FIJO EN EL DICCIONARIO DEL NODO SI LOS ELEMENTOS DEL CLIQUE ESTÁN EN EL\n",
    "            #CON QUE 1 ELEMENTO NO ESTÉ, YA EL NODO NO ES VECINO DEL CLIQUE\n",
    "            if elemento not in self.grafo[nodo]:\n",
    "                return False\n",
    "        return True\n",
    "\n",
    "        "
   ]
  },
  {
   "cell_type": "code",
   "execution_count": 31,
   "metadata": {},
   "outputs": [],
   "source": [
    "#GENERAR TODOS LOS SUBCONJUNTOS POSIBLES: EJ. [0,1,0,1] DESDE EL VACÍO HASTA EL [1,1,1,1]\n",
    "def incrementar(fila):\n",
    "    cadena=''\n",
    "    for num in fila:\n",
    "        cadena+=str(num)\n",
    "        \n",
    "    totalunos=cadena.count('1')\n",
    "    \n",
    "    if  totalunos== len(cadena):\n",
    "        return None\n",
    "\n",
    "    lineaSuma=bin(int(cadena,2)+int('1',2))[2:]\n",
    "    \n",
    "    lineaSuma.zfill(len(cadena))\n",
    "    \n",
    "    lineaNueva=lineaSuma.zfill(len(cadena))\n",
    "    \n",
    "    filaNueva=[]\n",
    "    for i in range(0,len(lineaNueva)):\n",
    "        \n",
    "        filaNueva.append(int(lineaNueva[i]))\n",
    "        \n",
    "    return filaNueva"
   ]
  },
  {
   "cell_type": "code",
   "execution_count": 32,
   "metadata": {},
   "outputs": [],
   "source": [
    "def incremen(fila):\n",
    "    cadena=''\n",
    "    for num in fila:\n",
    "        cadena+=str(num)\n",
    "        \n",
    "    totalunos=cadena.count('1')\n",
    "    \n",
    "    if  totalunos== len(cadena):\n",
    "        return None\n",
    "\n",
    "    j = len(fila)-1\n",
    "    while fila[j]==1:\n",
    "        fila[j] = 0\n",
    "        j -= 1\n",
    "    fila[j]=1\n",
    "\n",
    "    \n",
    "    return fila"
   ]
  },
  {
   "cell_type": "code",
   "execution_count": 33,
   "metadata": {},
   "outputs": [],
   "source": [
    "def cliqueMaximo(grafo,cantNodos):\n",
    "    maxClique=[]\n",
    "    #VECTOR DE CEROS\n",
    "    analizar=[0]*cantNodos\n",
    "    while analizar:\n",
    "        clique=[]\n",
    "        for i in range(cantNodos):\n",
    "            if(analizar[i]==1):\n",
    "                if(len(clique)==0):\n",
    "                    clique.append(i)\n",
    "                elif (grafo.esVecino(clique,i)):\n",
    "                    clique.append(i)\n",
    "        if(len(clique)>len(maxClique)):\n",
    "            \n",
    "            maxClique=clique\n",
    "        analizar=incremen(analizar)\n",
    "    return maxClique\n",
    "\n",
    "\n"
   ]
  },
  {
   "cell_type": "code",
   "execution_count": 34,
   "metadata": {},
   "outputs": [
    {
     "output_type": "stream",
     "name": "stdout",
     "text": [
      "[[0 0 0 0 0 0 0 0]\n [1 0 0 0 0 0 0 0]\n [0 1 0 1 0 1 0 0]\n [1 0 0 0 0 0 0 1]\n [0 0 0 1 0 0 1 0]\n [0 0 1 0 0 0 0 0]\n [0 0 0 1 1 1 0 1]\n [0 1 0 0 0 0 0 0]]\n\n[(0, None), (1, 0), (2, 1), (2, 3), (2, 5), (3, 0), (3, 7), (4, 3), (4, 6), (5, 2), (6, 3), (6, 4), (6, 5), (6, 7), (7, 1)]\n\n{0: [1, 3],\n 1: [0, 2, 7],\n 2: [1, 3, 5],\n 3: [2, 0, 7, 4, 6],\n 4: [3, 6],\n 5: [2, 6],\n 6: [4, 3, 5, 7],\n 7: [3, 6, 1]}\n\n[3, 6, 7]\n"
     ]
    }
   ],
   "source": [
    "cantNodos=8\n",
    "probabilidad=0.3\n",
    "\n",
    "\n",
    "\n",
    "m=[[0,0,1,1,0,0,1],\n",
    " [0,0,0,0,1,0,1],\n",
    " [0,0,0,0,0,1,1],\n",
    " [0,1,1,0,1,0,1],\n",
    " [0,0,0,0,0,0,1],\n",
    " [1,0,1,1,1,0,0],\n",
    " [0,1,0,0,0,1,0]]\n",
    "\n",
    "m=matrizIncidencia(cantNodos,probabilidad)\n",
    "\n",
    "print(m)\n",
    "print()\n",
    "\n",
    "l=listaConexiones(m)\n",
    "print(l)\n",
    "print()\n",
    "\n",
    "grafo=TDAGrafo(l)\n",
    "\n",
    "pretty_print = pprint.PrettyPrinter()\n",
    "pretty_print.pprint(grafo.grafo)\n",
    "\n",
    "resultado=cliqueMaximo(grafo,cantNodos)\n",
    "\n",
    "print()\n",
    "print(resultado)\n"
   ]
  },
  {
   "cell_type": "code",
   "execution_count": null,
   "metadata": {},
   "outputs": [],
   "source": []
  }
 ]
}