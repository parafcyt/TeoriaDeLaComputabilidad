{
 "metadata": {
  "language_info": {
   "codemirror_mode": {
    "name": "ipython",
    "version": 3
   },
   "file_extension": ".py",
   "mimetype": "text/x-python",
   "name": "python",
   "nbconvert_exporter": "python",
   "pygments_lexer": "ipython3",
   "version": "3.7.4-final"
  },
  "orig_nbformat": 2,
  "kernelspec": {
   "name": "python3",
   "display_name": "Python 3"
  }
 },
 "nbformat": 4,
 "nbformat_minor": 2,
 "cells": [
  {
   "cell_type": "code",
   "execution_count": 322,
   "metadata": {},
   "outputs": [],
   "source": [
    "import numpy as np \n",
    "import random\n",
    "import pprint\n",
    "from itertools import combinations\n"
   ]
  },
  {
   "cell_type": "code",
   "execution_count": 323,
   "metadata": {},
   "outputs": [],
   "source": [
    "#CARGAR MATRIZ INCIDENCIA RANDOM, CONTROLO EL % DE CONEXIONES(1)\n",
    "def matrizIncidencia(cantNodos:int, probabilidad:float):\n",
    "    matriz=np.zeros((cantNodos,cantNodos),int)\n",
    "    for fila in range(cantNodos):\n",
    "        for columna in range(cantNodos):\n",
    "            if fila==columna:\n",
    "                matriz[fila][columna]=0\n",
    "            elif random.random()<probabilidad:\n",
    "                #CONTROLO CANT DE 1\n",
    "                matriz[fila][columna]=1\n",
    "    return matriz"
   ]
  },
  {
   "cell_type": "code",
   "execution_count": 324,
   "metadata": {},
   "outputs": [],
   "source": [
    "#DE MATRIZ DE INCIDENCIA HAGO LISTA DE CONEXIONES\n",
    "def listaConexiones(matriz:np.ndarray):\n",
    "    lista=[]\n",
    "    cantNodos=matriz.shape[0]\n",
    "    for fila in range(cantNodos):\n",
    "        columna=-1\n",
    "        conexion=False\n",
    "        for elemento in matriz[fila]:\n",
    "            #ME EMPIEZO A MOVER X LAS COLUMNAS\n",
    "            columna+=1\n",
    "            if elemento==1:\n",
    "                lista.append((fila,columna))\n",
    "                conexion=True\n",
    "        if conexion==False:\n",
    "            #NODO SIN ARISTAS\n",
    "            lista.append((fila,None))\n",
    "    return lista"
   ]
  },
  {
   "cell_type": "code",
   "execution_count": 325,
   "metadata": {},
   "outputs": [],
   "source": [
    "class TDAGrafo:\n",
    "    def __init__(self,listaConexiones):\n",
    "        self.grafo=dict()\n",
    "        self.listaADiccionario(listaConexiones)\n",
    "        self.cardinalesDicc=dict()\n",
    "        self.cardinalidades()\n",
    "\n",
    "\n",
    "    #DE LISTA DE CONEXIONES A DICCIONARIO\n",
    "    def listaADiccionario(self,listaConexiones):\n",
    "    \n",
    "        for element1,element2 in listaConexiones:\n",
    "            if element2 !=None:\n",
    "\n",
    "                self.grafo.setdefault(element1,[]) #ESTRUCTURA\n",
    "                if element2 not in self.grafo[element1]: #NO DUPLICADOS\n",
    "                    self.grafo[element1].append(element2)\n",
    "\n",
    "                self.grafo.setdefault(element2,[]) #ESTRUCTURA\n",
    "                if element1 not in self.grafo[element2]: #NO DUPLICADOS\n",
    "                    self.grafo[element2].append(element1)\n",
    "\n",
    "            else:\n",
    "                self.grafo.setdefault(element1,[])\n",
    "\n",
    "    #ARMO DICCIONARIO CON CARDINALIDADES DE ARISTAS Y COMO VALOR: LOS NODOS CON ESA CARDINALIDAD\n",
    "    def cardinalidades(self):\n",
    "    \n",
    "        for nodo,conexiones in self.grafo.items(): #ITENS TRAE CLAVE Y VALOR\n",
    "            self.cardinalesDicc.setdefault(len(conexiones),[]).append(nodo) #ESTRUCTURA\n",
    "        \n",
    "       \n",
    "\n",
    "    #HACE TODAS LAS COMBINACIONES DE LOS VERTICES DE UNA CARDINALIDAD Y DICE SI SON CLIQUE(Y LO DEVUELVE)\n",
    "    def combinacionEsClique(self,vertices, cardiClique):\n",
    "        combinaciones=list(combinations(vertices, cardiClique))\n",
    "        print('COMBINACIONES:{}, {}'.format(combinaciones,cardiClique)) \n",
    "        for combinacion in combinaciones:\n",
    "            if self.esClique(combinacion):\n",
    "                return combinacion\n",
    "        return False\n",
    "        \n",
    "\n",
    "    #DADA UNA COMBINACION SE FIJA SI ENTRE ELLOS SON VECINOS\n",
    "    def esClique(self,combinacion):\n",
    "        for nodo in combinacion:\n",
    "            for elemento in combinacion:\n",
    "                if nodo != elemento:\n",
    "                    if nodo not in self.grafo[elemento]:\n",
    "                        return False\n",
    "        return True\n",
    "\n",
    "\n",
    "\n"
   ]
  },
  {
   "cell_type": "code",
   "execution_count": 326,
   "metadata": {},
   "outputs": [],
   "source": [
    "#DADO UN VALOR, DEVUELVE UN ARRAY CON TODOS LOS NODOS DE ESA CARDINALIDAD PARA ARRIBA INCLUSIVE\n",
    "def nodosSuperiores(grafo, valor):\n",
    "    lista=list(grafo.cardinalesDicc.keys())\n",
    "    lista.sort()\n",
    "    print('DICCIONARIO CARDINALES LISTA:{} '.format(lista))\n",
    "    arrayNodosSup=[]\n",
    "    arrayCardinalesSup=[]\n",
    "    for cardi in lista:\n",
    "        if cardi>=valor:\n",
    "            arrayCardinalesSup.append(cardi)\n",
    "    \n",
    "    print('ARRAY CARDINALES SUP:{} '.format(arrayCardinalesSup))\n",
    "    \n",
    "    for card in arrayCardinalesSup:\n",
    "         for nodo in grafo.cardinalesDicc[card]:\n",
    "                arrayNodosSup.append(nodo)\n",
    "    print('Nodos Superiores para cardinalidad {}: {}'.format(valor,arrayNodosSup))\n",
    "    return arrayNodosSup"
   ]
  },
  {
   "cell_type": "code",
   "execution_count": 327,
   "metadata": {},
   "outputs": [],
   "source": [
    "def cliqueMaxHeuristic(grafo:TDAGrafo):\n",
    "    cardiordenado=sorted(grafo.cardinalesDicc)\n",
    "    gradoMax=cardiordenado[-1] #TRAE EL GRADO MAXIMO DE LOS NODOS DEL GRAFO\n",
    "    limInf=0\n",
    "    limSup=gradoMax\n",
    "    print('Limite Superior:'+str(limSup))\n",
    "    cliqueMax=None\n",
    "    mitad=(limInf+limSup)//2\n",
    "\n",
    "    while limInf<=limSup:\n",
    "        nodosSuper=nodosSuperiores(grafo,mitad) # DE MITAD PARA ARRIBA INCLUSIVE\n",
    "        cantNodosSup=len(nodosSuper)\n",
    "        if cantNodosSup>mitad: #TENGO NODOS PARA ANALIZAR EN LA PARTE DERECHA\n",
    "            cliqueAux=grafo.combinacionEsClique(nodosSuper, mitad+1) #BUSCO CLIQUE DE GRADO MITAD+1\n",
    "            if cliqueAux: #SI HAY BUSCO MAS GRANDES\n",
    "\n",
    "                cliqueMax=cliqueAux\n",
    "                limInf=mitad+1\n",
    "            else:\n",
    "                limSup=mitad-1 #SI NO HAY BUSCO DE LA MITAD INFERIOR\n",
    "        else: \n",
    "            limSup=mitad-1 #\n",
    "        mitad=(limInf+limSup)//2 #ACTUALIZO LA MITAD SIEMPRE\n",
    "    return cliqueMax   \n",
    "        \n",
    "\n"
   ]
  },
  {
   "cell_type": "code",
   "execution_count": 328,
   "metadata": {},
   "outputs": [
    {
     "output_type": "stream",
     "name": "stdout",
     "text": [
      "[[0 1 0 0 0]\n [1 0 0 0 0]\n [0 0 0 0 0]\n [0 0 0 0 0]\n [0 0 0 0 0]]\n\n\n{0: [1], 1: [0], 2: [], 3: [], 4: []}\ndiccionario Cardinalidades\n{0: [2, 3, 4], 1: [0, 1]}\nLimite Superior:1\nDICCIONARIO CARDINALES LISTA:[0, 1] \nARRAY CARDINALES SUP:[0, 1] \nNodos Superiores para cardinalidad 0: [2, 3, 4, 0, 1]\nCOMBINACIONES:[(2,), (3,), (4,), (0,), (1,)], 1\nDICCIONARIO CARDINALES LISTA:[0, 1] \nARRAY CARDINALES SUP:[1] \nNodos Superiores para cardinalidad 1: [0, 1]\nCOMBINACIONES:[(0, 1)], 2\n\n(0, 1)\n"
     ]
    }
   ],
   "source": [
    "cantNodos=5\n",
    "probabilidad=0.5\n",
    "\n",
    "\n",
    "\n",
    "m1 = np.array([\n",
    "    [0,1,1,1,0,1,1,0],\n",
    "    [1,0,1,1,1,1,0,0],\n",
    "    [1,1,0,1,0,0,1,1],\n",
    "    [1,1,1,0,1,0,0,1],\n",
    "    [0,1,0,1,0,0,0,0],\n",
    "    [1,1,0,0,0,0,0,0],\n",
    "    [1,0,1,0,0,0,0,0],\n",
    "    [0,0,1,1,0,0,0,0]])\n",
    "\n",
    "m=matrizIncidencia(cantNodos,probabilidad)\n",
    "\n",
    "m2= np.array([\n",
    "    [0,1,1,1,1],\n",
    "    [1,0,1,1,1],\n",
    "    [1,1,0,1,1],\n",
    "    [1,1,1,0,1],\n",
    "    [1,1,1,1,0]\n",
    "])\n",
    "\n",
    "m= np.array([\n",
    "    [0,1,0,0,0],\n",
    "    [1,0,0,0,0],\n",
    "    [0,0,0,0,0],\n",
    "    [0,0,0,0,0],\n",
    "    [0,0,0,0,0]\n",
    "])\n",
    "\n",
    "print(m)\n",
    "\n",
    "\n",
    "l=listaConexiones(m)\n",
    "#print(l)\n",
    "print()\n",
    "\n",
    "grafo=TDAGrafo(l)\n",
    "print()\n",
    "pretty_print = pprint.PrettyPrinter()\n",
    "pretty_print.pprint(grafo.grafo)\n",
    "print('diccionario Cardinalidades')\n",
    "pretty_print = pprint.PrettyPrinter()\n",
    "pretty_print.pprint(grafo.cardinalesDicc)\n",
    "\n",
    "\n",
    "resultado=cliqueMaxHeuristic(grafo)\n",
    "\n",
    "print()\n",
    "print(resultado)"
   ]
  },
  {
   "cell_type": "code",
   "execution_count": 329,
   "metadata": {},
   "outputs": [
    {
     "output_type": "stream",
     "name": "stdout",
     "text": [
      "89\n"
     ]
    },
    {
     "output_type": "execute_result",
     "data": {
      "text/plain": [
       "[1, 3, 4, 22, 89]"
      ]
     },
     "metadata": {},
     "execution_count": 329
    }
   ],
   "source": [
    "calvesordenadas = sorted({1:1,89:7,22:9,4:34,3:90})\n",
    "print(calvesordenadas[-1])\n",
    "calvesordenadas"
   ]
  },
  {
   "cell_type": "code",
   "execution_count": 330,
   "metadata": {},
   "outputs": [
    {
     "output_type": "stream",
     "name": "stdout",
     "text": [
      "[1, 2, 3, 4, 5]\n"
     ]
    }
   ],
   "source": [
    "valor=2\n",
    "listita=[0,1,2,3,4,5]\n",
    "print(listita[valor-1:])"
   ]
  },
  {
   "cell_type": "code",
   "execution_count": null,
   "metadata": {},
   "outputs": [],
   "source": []
  }
 ]
}